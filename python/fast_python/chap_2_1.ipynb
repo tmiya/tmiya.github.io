{
 "cells": [
  {
   "cell_type": "markdown",
   "id": "b3080bda",
   "metadata": {},
   "source": [
    "## 2.1 Profiling applications with both IO and computing workloads\n",
    "\n",
    "書籍のサンプルコードをnotebook化してみた。"
   ]
  },
  {
   "cell_type": "code",
   "execution_count": 1,
   "id": "262d4a42",
   "metadata": {},
   "outputs": [],
   "source": [
    "import collections\n",
    "import csv\n",
    "import datetime\n",
    "import sys\n",
    "\n",
    "import requests\n",
    "\n",
    "%load_ext line_profiler"
   ]
  },
  {
   "cell_type": "code",
   "execution_count": 2,
   "id": "1eee6c28",
   "metadata": {},
   "outputs": [],
   "source": [
    "stations = [\"01044099999\", \"02293099999\"]\n",
    "start_year = 2021\n",
    "end_year = 2021\n",
    "# stations = sys.argv[1].split(\",\")\n",
    "# years = [int(year) for year in sys.argv[2].split(\"-\")]\n",
    "# start_year = years[0]\n",
    "# end_year = years[1]\n",
    "\n",
    "TEMPLATE_URL = \"https://www.ncei.noaa.gov/data/global-hourly/access/{year}/{station}.csv\"\n",
    "TEMPLATE_FILE = \"station_{station}_{year}.csv\""
   ]
  },
  {
   "cell_type": "code",
   "execution_count": 3,
   "id": "d550f021",
   "metadata": {},
   "outputs": [],
   "source": [
    "def download_data(station, year):\n",
    "    my_url = TEMPLATE_URL.format(station=station, year=year)\n",
    "    req = requests.get(my_url)\n",
    "    if req.status_code != 200:\n",
    "        return  # not found\n",
    "    w = open(TEMPLATE_FILE.format(station=station, year=year), \"wt\")\n",
    "    w.write(req.text)\n",
    "    w.close()"
   ]
  },
  {
   "cell_type": "code",
   "execution_count": 4,
   "id": "107e28b0",
   "metadata": {},
   "outputs": [],
   "source": [
    "def download_all_data(stations, start_year, end_year):\n",
    "    for station in stations:\n",
    "        for year in range(start_year, end_year + 1):\n",
    "            download_data(station, year)\n"
   ]
  },
  {
   "cell_type": "code",
   "execution_count": 5,
   "id": "f22b09e2",
   "metadata": {},
   "outputs": [],
   "source": [
    "def get_file_temperatures(file_name):\n",
    "    with open(file_name, \"rt\") as f:\n",
    "        reader = csv.reader(f)\n",
    "        header = next(reader)\n",
    "        for row in reader:\n",
    "            station = row[header.index(\"STATION\")]\n",
    "            # date = datetime.datetime.fromisoformat(row[header.index('DATE')])\n",
    "            tmp = row[header.index(\"TMP\")]\n",
    "            temperature, status = tmp.split(\",\")\n",
    "            if status != \"1\":\n",
    "                continue\n",
    "            temperature = int(temperature) / 10\n",
    "            yield temperature"
   ]
  },
  {
   "cell_type": "code",
   "execution_count": 6,
   "id": "a340ac9d",
   "metadata": {},
   "outputs": [],
   "source": [
    "def get_all_temperatures(stations, start_year, end_year):\n",
    "    temperatures = collections.defaultdict(list)\n",
    "    for station in stations:\n",
    "        for year in range(start_year, end_year + 1):\n",
    "            for temperature in get_file_temperatures(TEMPLATE_FILE.format(station=station, year=year)):\n",
    "                temperatures[station].append(temperature)\n",
    "    return temperatures\n"
   ]
  },
  {
   "cell_type": "code",
   "execution_count": 7,
   "id": "42958c4d",
   "metadata": {},
   "outputs": [],
   "source": [
    "def get_min_temperatures(all_temperatures):\n",
    "    return {station: min(temperatures) for station, temperatures in all_temperatures.items()}\n"
   ]
  },
  {
   "cell_type": "markdown",
   "id": "a9039ab0",
   "metadata": {},
   "source": [
    "実行時間の計測は `%%time` を付ければ測定できる。"
   ]
  },
  {
   "cell_type": "code",
   "execution_count": 8,
   "id": "ade88da5",
   "metadata": {},
   "outputs": [
    {
     "name": "stdout",
     "output_type": "stream",
     "text": [
      "{'01044099999': -10.0, '02293099999': -27.6}\n",
      "CPU times: user 327 ms, sys: 154 ms, total: 481 ms\n",
      "Wall time: 12.9 s\n"
     ]
    }
   ],
   "source": [
    "%%time\n",
    "download_all_data(stations, start_year, end_year)\n",
    "all_temperatures = get_all_temperatures(stations, start_year, end_year)\n",
    "min_temperatures = get_min_temperatures(all_temperatures)\n",
    "print(min_temperatures)\n"
   ]
  },
  {
   "cell_type": "markdown",
   "id": "95fc7286",
   "metadata": {},
   "source": [
    "内部的な処理のプロファイリングは `%%prun` で出来る。"
   ]
  },
  {
   "cell_type": "code",
   "execution_count": 9,
   "id": "5e3396ff",
   "metadata": {},
   "outputs": [
    {
     "name": "stdout",
     "output_type": "stream",
     "text": [
      "{'01044099999': -10.0, '02293099999': -27.6}\n",
      " "
     ]
    }
   ],
   "source": [
    "%%prun\n",
    "download_all_data(stations, start_year, end_year)\n",
    "all_temperatures = get_all_temperatures(stations, start_year, end_year)\n",
    "min_temperatures = get_min_temperatures(all_temperatures)\n",
    "print(min_temperatures)\n"
   ]
  },
  {
   "cell_type": "markdown",
   "id": "36f4f3d8",
   "metadata": {},
   "source": [
    "```\n",
    "         244928 function calls (244922 primitive calls) in 12.521 seconds\n",
    "\n",
    "   Ordered by: internal time\n",
    "\n",
    "   ncalls  tottime  percall  cumtime  percall filename:lineno(function)\n",
    "     2999   10.842    0.004   10.842    0.004 {method 'read' of '_ssl._SSLSocket' objects}\n",
    "        2    0.881    0.440    0.881    0.440 {method 'do_handshake' of '_ssl._SSLSocket' objects}\n",
    "        2    0.398    0.199    0.398    0.199 {method 'connect' of '_socket.socket' objects}\n",
    "    33650    0.103    0.000    0.116    0.000 2613255434.py:1(get_file_temperatures)\n",
    "        2    0.089    0.044    0.089    0.044 {method 'load_verify_locations' of '_ssl._SSLContext' objects}\n",
    "     1169    0.020    0.000   10.513    0.009 response.py:535(read)\n",
    "     1169    0.014    0.000   10.438    0.009 {method 'read' of '_io.BufferedReader' objects}\n",
    "     2999    0.011    0.000   10.883    0.004 socket.py:691(readinto)\n",
    "     2999    0.011    0.000   10.864    0.004 ssl.py:1263(recv_into)\n",
    "     :\n",
    "     :\n",
    "```"
   ]
  },
  {
   "cell_type": "markdown",
   "id": "2a79af32",
   "metadata": {},
   "source": [
    "行単位のプロファイリングは `line_profiler` を使う。"
   ]
  },
  {
   "cell_type": "markdown",
   "id": "79d0cb68",
   "metadata": {},
   "source": [
    "`%lprun -f {{関数名}} {{関数呼び出し}}` の形式で実行。"
   ]
  },
  {
   "cell_type": "code",
   "execution_count": 10,
   "id": "f6bbf9b2",
   "metadata": {},
   "outputs": [],
   "source": [
    "%lprun -f download_all_data download_all_data(stations, start_year, end_year)"
   ]
  },
  {
   "cell_type": "markdown",
   "id": "287e7bdd",
   "metadata": {},
   "source": [
    "```\n",
    "Timer unit: 1e-09 s\n",
    "\n",
    "Total time: 17.4423 s\n",
    "File: /var/folders/tt/qt9zhxym8v5bhx0059bjbzx80000gp/T/ipykernel_3470/555202207.py\n",
    "Function: download_all_data at line 1\n",
    "\n",
    "Line #      Hits         Time  Per Hit   % Time  Line Contents\n",
    "==============================================================\n",
    "     1                                           def download_all_data(stations, start_year, end_year):\n",
    "     2         2       2000.0   1000.0      0.0      for station in stations:\n",
    "     3         2      10000.0   5000.0      0.0          for year in range(start_year, end_year + 1):\n",
    "     4         2 17442278000.0 8721139000.0    100.0              download_data(station, year)\n",
    "```"
   ]
  },
  {
   "cell_type": "code",
   "execution_count": 11,
   "id": "8de9b21c",
   "metadata": {},
   "outputs": [],
   "source": [
    "%lprun -f get_all_temperatures all_temperatures = get_all_temperatures(stations, start_year, end_year)\n"
   ]
  },
  {
   "cell_type": "markdown",
   "id": "87cd3c78",
   "metadata": {},
   "source": [
    "```\n",
    "Timer unit: 1e-09 s\n",
    "\n",
    "Total time: 0.122668 s\n",
    "File: /var/folders/tt/qt9zhxym8v5bhx0059bjbzx80000gp/T/ipykernel_3470/644307346.py\n",
    "Function: get_all_temperatures at line 1\n",
    "\n",
    "Line #      Hits         Time  Per Hit   % Time  Line Contents\n",
    "==============================================================\n",
    "     1                                           def get_all_temperatures(stations, start_year, end_year):\n",
    "     2         1       3000.0   3000.0      0.0      temperatures = collections.defaultdict(list)\n",
    "     3         2       2000.0   1000.0      0.0      for station in stations:\n",
    "     4         2       4000.0   2000.0      0.0          for year in range(start_year, end_year + 1):\n",
    "     5     33648  116934000.0   3475.2     95.3              for temperature in get_file_temperatures(TEMPLATE_FILE.format(station=station, year=year)):\n",
    "     6     33648    5725000.0    170.1      4.7                  temperatures[station].append(temperature)\n",
    "     7         1          0.0      0.0      0.0      return temperatures\n",
    "```"
   ]
  },
  {
   "cell_type": "code",
   "execution_count": 12,
   "id": "84dc51c5",
   "metadata": {},
   "outputs": [],
   "source": [
    "%lprun -f get_min_temperatures min_temperatures = get_min_temperatures(all_temperatures)"
   ]
  },
  {
   "cell_type": "markdown",
   "id": "62a2613c",
   "metadata": {},
   "source": [
    "```\n",
    "Timer unit: 1e-09 s\n",
    "\n",
    "Total time: 0.000721 s\n",
    "File: /var/folders/tt/qt9zhxym8v5bhx0059bjbzx80000gp/T/ipykernel_3470/2586325356.py\n",
    "Function: get_min_temperatures at line 1\n",
    "\n",
    "Line #      Hits         Time  Per Hit   % Time  Line Contents\n",
    "==============================================================\n",
    "     1                                           def get_min_temperatures(all_temperatures):\n",
    "     2         1     721000.0 721000.0    100.0      return {station: min(temperatures) for station, temperatures in all_temperatures.items()}\n",
    "```"
   ]
  },
  {
   "cell_type": "code",
   "execution_count": 13,
   "id": "94ccad3f",
   "metadata": {},
   "outputs": [
    {
     "data": {
      "text/plain": [
       "{'01044099999': -10.0, '02293099999': -27.6}"
      ]
     },
     "execution_count": 13,
     "metadata": {},
     "output_type": "execute_result"
    }
   ],
   "source": [
    "min_temperatures"
   ]
  },
  {
   "cell_type": "code",
   "execution_count": null,
   "id": "1147636d",
   "metadata": {},
   "outputs": [],
   "source": []
  }
 ],
 "metadata": {
  "kernelspec": {
   "display_name": "Python 3 (ipykernel)",
   "language": "python",
   "name": "python3"
  },
  "language_info": {
   "codemirror_mode": {
    "name": "ipython",
    "version": 3
   },
   "file_extension": ".py",
   "mimetype": "text/x-python",
   "name": "python",
   "nbconvert_exporter": "python",
   "pygments_lexer": "ipython3",
   "version": "3.10.6"
  }
 },
 "nbformat": 4,
 "nbformat_minor": 5
}
